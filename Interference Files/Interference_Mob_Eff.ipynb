{
 "cells": [
  {
   "cell_type": "code",
   "execution_count": 1,
   "id": "2979d167",
   "metadata": {},
   "outputs": [
    {
     "name": "stderr",
     "output_type": "stream",
     "text": [
      "/usr/lib/python3/dist-packages/requests/__init__.py:91: RequestsDependencyWarning: urllib3 (1.26.7) or chardet (3.0.4) doesn't match a supported version!\n",
      "  RequestsDependencyWarning)\n"
     ]
    }
   ],
   "source": [
    "import os\n",
    "from PIL import Image\n",
    "import torchvision.transforms as transforms\n",
    "import numpy as np\n",
    "import pandas as pd\n",
    "import json\n",
    "import time\n",
    "import random\n",
    "import requests\n",
    "import matplotlib.pyplot as plt\n",
    "import warnings\n",
    "warnings.filterwarnings('ignore')\n",
    "import sklearn.metrics as metrics\n",
    "%matplotlib inline\n",
    "import PIL"
   ]
  },
  {
   "cell_type": "code",
   "execution_count": 2,
   "id": "66848787",
   "metadata": {},
   "outputs": [],
   "source": [
    "import re\n",
    "import math\n",
    "from math import ceil\n",
    "import collections\n",
    "from functools import partial\n",
    "import torch.optim as optim\n",
    "import torch\n",
    "from torch import nn\n",
    "from torch.nn import functional as F\n",
    "from torch.utils import model_zoo"
   ]
  },
  {
   "cell_type": "code",
   "execution_count": 3,
   "id": "72790783",
   "metadata": {},
   "outputs": [
    {
     "name": "stdout",
     "output_type": "stream",
     "text": [
      "Mon Mar 14 20:21:09 2022\n",
      "+-----------------------------------------------------------------------------+\n",
      "| NVIDIA-SMI 455.38       Driver Version: 455.38       CUDA Version: 11.1     |\n",
      "|-------------------------------+----------------------+----------------------+\n",
      "| GPU  Name        Persistence-M| Bus-Id        Disp.A | Volatile Uncorr. ECC |\n",
      "| Fan  Temp  Perf  Pwr:Usage/Cap|         Memory-Usage | GPU-Util  Compute M. |\n",
      "|                               |                      |               MIG M. |\n",
      "|===============================+======================+======================|\n",
      "|   0  GeForce GTX 108...  Off  | 00000000:04:00.0 Off |                  N/A |\n",
      "| 20%   23C    P8     8W / 250W |   9962MiB / 11178MiB |      0%      Default |\n",
      "|                               |                      |                  N/A |\n",
      "+-------------------------------+----------------------+----------------------+\n",
      "|   1  GeForce GTX 108...  Off  | 00000000:06:00.0 Off |                  N/A |\n",
      "| 26%   56C    P2    73W / 250W |  11167MiB / 11178MiB |      0%      Default |\n",
      "|                               |                      |                  N/A |\n",
      "+-------------------------------+----------------------+----------------------+\n",
      "|   2  GeForce GTX 108...  Off  | 00000000:07:00.0 Off |                  N/A |\n",
      "| 17%   29C    P0    58W / 250W |      0MiB / 11178MiB |      0%      Default |\n",
      "|                               |                      |                  N/A |\n",
      "+-------------------------------+----------------------+----------------------+\n",
      "|   3  GeForce GTX 108...  Off  | 00000000:08:00.0 Off |                  N/A |\n",
      "| 17%   32C    P0    58W / 250W |      0MiB / 11178MiB |      0%      Default |\n",
      "|                               |                      |                  N/A |\n",
      "+-------------------------------+----------------------+----------------------+\n",
      "|   4  GeForce GTX 108...  Off  | 00000000:0C:00.0 Off |                  N/A |\n",
      "| 17%   46C    P0    60W / 250W |      0MiB / 11178MiB |      2%      Default |\n",
      "|                               |                      |                  N/A |\n",
      "+-------------------------------+----------------------+----------------------+\n",
      "|   5  GeForce GTX 108...  Off  | 00000000:0D:00.0 Off |                  N/A |\n",
      "| 20%   23C    P8     8W / 250W |    137MiB / 11178MiB |      0%      Default |\n",
      "|                               |                      |                  N/A |\n",
      "+-------------------------------+----------------------+----------------------+\n",
      "|   6  GeForce GTX 108...  Off  | 00000000:0E:00.0 Off |                  N/A |\n",
      "| 50%   80C    P2   150W / 250W |  11101MiB / 11178MiB |     91%      Default |\n",
      "|                               |                      |                  N/A |\n",
      "+-------------------------------+----------------------+----------------------+\n",
      "|   7  GeForce GTX 108...  Off  | 00000000:0F:00.0 Off |                  N/A |\n",
      "| 20%   25C    P8     8W / 250W |   1349MiB / 11178MiB |      0%      Default |\n",
      "|                               |                      |                  N/A |\n",
      "+-------------------------------+----------------------+----------------------+\n",
      "\n",
      "+-----------------------------------------------------------------------------+\n",
      "|  GPU   PID     USER    GPU MEM  %CPU  %MEM      TIME  COMMAND               |\n",
      "|    0  6619 mahawar2     135MiB  1384  15.1    1 days  python3 run.py        |\n",
      "|    0  9309     root    9821MiB  12.8   0.3   11 days  /usr/bin/python -m i  |\n",
      "|    1 13186     root   11165MiB   529   1.0  10:33:18  python main.py --mod  |\n",
      "|    5 31775 mahawar2     135MiB  1285  37.6    6 days  python3 run.py        |\n",
      "|    6 24773     root   11099MiB  99.2   0.0    3 days  python -u train_dum.  |\n",
      "|    7 20886     root    1347MiB   6.8   1.0  07:17:52  /opt/conda/bin/pytho  |\n",
      "+-----------------------------------------------------------------------------+\n"
     ]
    }
   ],
   "source": [
    "!nvidia-htop.py"
   ]
  },
  {
   "cell_type": "code",
   "execution_count": 4,
   "id": "f95c2275",
   "metadata": {},
   "outputs": [
    {
     "name": "stdout",
     "output_type": "stream",
     "text": [
      "cuda\n"
     ]
    }
   ],
   "source": [
    "os.environ[\"CUDA_DEVICE_ORDER\"]=\"PCI_BUS_ID\"  \n",
    "os.environ[\"CUDA_VISIBLE_DEVICES\"]=\"3\"\n",
    "device = torch.device(\"cuda\" if torch.cuda.is_available() else \"cpu\")\n",
    "print(device)"
   ]
  },
  {
   "cell_type": "code",
   "execution_count": 5,
   "id": "7e3535f5",
   "metadata": {},
   "outputs": [],
   "source": [
    "config = dict(\n",
    "    train_path = '../../dataset/RetinalDiseaseData/Retinaldata/Training_Set/Training_Set/Training',\n",
    "    val_path = '../../dataset/RetinalDiseaseData/Retinaldata/Evaluation_Set/Evaluation_Set/Validation',\n",
    "    test_path = '../../dataset/RetinalDiseaseData/Retinaldata/Test_Set/Test_Set/Test',\n",
    "    train_csv = '../../dataset/RetinalDiseaseData/Retinaldata/Training_Set/Training_Set/RFMiD_Training_Labels.csv',\n",
    "    val_csv = '../../dataset/RetinalDiseaseData/Retinaldata/Evaluation_Set/Evaluation_Set/RFMiD_Validation_Labels.csv',\n",
    "    test_csv= '../../dataset/RetinalDiseaseData/Retinaldata/Test_Set/Test_Set/RFMiD_Testing_Labels.csv',\n",
    "    BATCH_SIZE=6,\n",
    "    IMAGE_HEIGHT= 384,\n",
    "    IMAGE_WIDTH = 578,\n",
    "    lr=0.001, \n",
    "    EPOCHS = 2,\n",
    "    device=device,\n",
    "    SEED = 42,\n",
    "    pin_memory=True,\n",
    "    num_workers=2,\n",
    "    USE_AMP = True,\n",
    "    channels_last=False,\n",
    "    saved_path=\"saved/resnet18.pt\",\n",
    "    best_saved_path = \"saved/resnet18_best.pt\"\n",
    ")"
   ]
  },
  {
   "cell_type": "code",
   "execution_count": 6,
   "id": "b7e90997",
   "metadata": {},
   "outputs": [],
   "source": [
    "random.seed(config['SEED'])\n",
    "# If you or any of the libraries you are using rely on NumPy, you can seed the global NumPy RNG \n",
    "np.random.seed(config['SEED'])\n",
    "# Prevent RNG for CPU and GPU using torch\n",
    "torch.manual_seed(config['SEED'])\n",
    "torch.cuda.manual_seed(config['SEED'])\n",
    "torch.backends.cudnn.benchmarks = True\n",
    "torch.backends.cudnn.deterministic = True\n",
    "\n",
    "torch.backends.cuda.matmul.allow_tf32 = True\n",
    "\n",
    "# The flag below controls whether to allow TF32 on cuDNN. This flag defaults to True.\n",
    "torch.backends.cudnn.allow_tf32 = True"
   ]
  },
  {
   "cell_type": "code",
   "execution_count": 7,
   "id": "478cebe4",
   "metadata": {},
   "outputs": [],
   "source": [
    "class CustomTraindata():\n",
    "    def __init__(self):\n",
    "        self.train_df = pd.read_csv(config['train_csv'])\n",
    "        self.images = config['train_path']\n",
    "        self.transformation2 = transforms.ToPILImage()\n",
    "        self.transformation = transforms.Compose([\n",
    "            transforms.Resize((config['IMAGE_HEIGHT'],config['IMAGE_WIDTH'])),\n",
    "            transforms.ToTensor()])\n",
    "    def __len__(self):\n",
    "        return len(self.train_df)\n",
    "    \n",
    "    def __getitem__(self,idx):\n",
    "        df_row = self.train_df.iloc[idx,:]\n",
    "        img_id, disease = df_row['ID'],df_row['Disease_Risk']\n",
    "        # diesease == 1 (infection) else no infection\n",
    "        img_name = f'{img_id}.png'\n",
    "        \n",
    "        img = Image.open(os.path.join(self.images,img_name)).convert(\"RGB\")\n",
    "        width,height = img.size\n",
    "        scaling = width / height\n",
    "        img = self.transformation(img)\n",
    "        return (img,disease)\n",
    "    \n",
    "class CustomValdata():\n",
    "    def __init__(self):\n",
    "        self.val_df = pd.read_csv(config['val_csv'])\n",
    "        self.images = config['val_path']\n",
    "        self.transformation2 = transforms.ToPILImage()\n",
    "        self.transformation = transforms.Compose([\n",
    "            transforms.Resize((config['IMAGE_HEIGHT'],config['IMAGE_WIDTH'])),\n",
    "            transforms.ToTensor()])\n",
    "    def __len__(self):\n",
    "        return len(self.val_df)\n",
    "    \n",
    "    def __getitem__(self,idx):\n",
    "        df_row = self.val_df.iloc[idx,:]\n",
    "        img_id, disease = df_row['ID'],df_row['Disease_Risk']\n",
    "        # diesease == 1 (infection) else no infection\n",
    "        img_name = f'{img_id}.png'\n",
    "        \n",
    "        img = Image.open(os.path.join(self.images,img_name)).convert(\"RGB\")\n",
    "        width,height = img.size\n",
    "        scaling = width / height\n",
    "        img = self.transformation(img)\n",
    "        return (img,disease)\n",
    "    \n",
    "class CustomTestdata():\n",
    "    def __init__(self):\n",
    "        self.test_df = pd.read_csv(config['test_csv'])\n",
    "        self.images = config['test_path']\n",
    "        self.transformation2 = transforms.ToPILImage()\n",
    "        self.transformation = transforms.Compose([\n",
    "            transforms.Resize((config['IMAGE_HEIGHT'],config['IMAGE_WIDTH'])),\n",
    "            transforms.ToTensor()])\n",
    "    def __len__(self):\n",
    "        return len(self.test_df)\n",
    "    \n",
    "    def __getitem__(self,idx):\n",
    "        df_row = self.test_df.iloc[idx,:]\n",
    "        img_id, disease = df_row['ID'],df_row['Disease_Risk']\n",
    "        # diesease == 1 (infection) else no infection\n",
    "        img_name = f'{img_id}.png'\n",
    "        \n",
    "        img = Image.open(os.path.join(self.images,img_name)).convert(\"RGB\")\n",
    "        width,height = img.size\n",
    "        scaling = width / height\n",
    "        img = self.transformation(img)\n",
    "        return (img,disease)\n",
    "    "
   ]
  },
  {
   "cell_type": "code",
   "execution_count": 8,
   "id": "121b50e4",
   "metadata": {},
   "outputs": [
    {
     "name": "stdout",
     "output_type": "stream",
     "text": [
      "320 107\n"
     ]
    }
   ],
   "source": [
    "train_data, valid_data, test_data = CustomTraindata(), CustomValdata(),CustomTestdata()\n",
    "train_dl = torch.utils.data.DataLoader(train_data,batch_size=config['BATCH_SIZE'],shuffle=True, num_workers = config['num_workers'],\n",
    "                                          pin_memory = config['pin_memory'])\n",
    "valid_dl = torch.utils.data.DataLoader(valid_data,batch_size=config['BATCH_SIZE'],shuffle=True, num_workers = config['num_workers'],\n",
    "                                          pin_memory = config['pin_memory'])\n",
    "test_dl = torch.utils.data.DataLoader(test_data,batch_size=config['BATCH_SIZE'],shuffle=True, num_workers = config['num_workers'],\n",
    "                                          pin_memory = config['pin_memory'])\n",
    "print(len(train_dl),len(valid_dl))"
   ]
  },
  {
   "cell_type": "code",
   "execution_count": 9,
   "id": "7ba34ba4",
   "metadata": {},
   "outputs": [
    {
     "name": "stdout",
     "output_type": "stream",
     "text": [
      "tensor([1, 1, 0, 1, 1, 1])\n",
      "torch.Size([6, 3, 384, 578])\n"
     ]
    },
    {
     "data": {
      "text/plain": [
       "<matplotlib.image.AxesImage at 0x7f2e956968d0>"
      ]
     },
     "execution_count": 9,
     "metadata": {},
     "output_type": "execute_result"
    },
    {
     "data": {
      "image/png": "[encoded data removed]",
      "text/plain": [
       "<Figure size 432x288 with 1 Axes>"
      ]
     },
     "metadata": {
      "needs_background": "light"
     },
     "output_type": "display_data"
    }
   ],
   "source": [
    "a = iter(test_dl)\n",
    "b = next(a)\n",
    "print(b[1])\n",
    "print(b[0].shape)\n",
    "plt.imshow(b[0][0][0])"
   ]
  },
  {
   "cell_type": "markdown",
   "id": "af49ffb3",
   "metadata": {},
   "source": [
    "# Evaluation/ Interference"
   ]
  },
  {
   "cell_type": "code",
   "execution_count": 10,
   "id": "7f003c42",
   "metadata": {},
   "outputs": [],
   "source": [
    "def evaluation(model,test_dl):\n",
    "    model.eval()\n",
    "    running_loss = 0.0\n",
    "    running_corrects = 0\n",
    "    total = 0\n",
    "    preds = []\n",
    "    pred_labels = []\n",
    "    labels = []\n",
    "\n",
    "            # Disable gradient calculation for validation or inference using torch.no_rad()\n",
    "    with torch.no_grad():\n",
    "                for x,y in test_dl:\n",
    "                    x = x.to(config['device'])\n",
    "                    y = y.to(config['device']) #CHW --> #HWC\n",
    "                    valid_logits = model(x)\n",
    "                    predict_prob = F.softmax(valid_logits)\n",
    "                    _,predictions = predict_prob.max(1)\n",
    "                    predictions = predictions.to('cpu')\n",
    "\n",
    "                    _, valid_preds = torch.max(valid_logits, 1)\n",
    "                    valid_loss = criterion(valid_logits,y)\n",
    "                    running_loss += valid_loss.item() * x.size(0)\n",
    "                    running_corrects += torch.sum(valid_preds == y.data)\n",
    "                    total += y.size(0)\n",
    "                    predict_prob = predict_prob.to('cpu')\n",
    "\n",
    "                    pred_labels.extend(list(predictions.numpy()))\n",
    "                    preds.extend(list(predict_prob.numpy()))\n",
    "                    y = y.to('cpu')\n",
    "                    labels.extend(list(y.numpy()))\n",
    "\n",
    "    epoch_loss = running_loss / len(test_data)\n",
    "    epoch_acc = running_corrects.double() / len(test_data)\n",
    "    print(\"Test Loss is {}\".format(epoch_loss))\n",
    "    print(\"Test Accuracy is {}\".format(epoch_acc.cpu()))\n",
    "    return np.array(labels),np.array(pred_labels),np.array(preds)"
   ]
  },
  {
   "cell_type": "markdown",
   "id": "aad9aafe",
   "metadata": {},
   "source": [
    "# Model: Mobilenet V2"
   ]
  },
  {
   "cell_type": "code",
   "execution_count": 21,
   "id": "87ad3e5a",
   "metadata": {},
   "outputs": [],
   "source": [
    "def conv_bn(inp, oup, stride):\n",
    "    return nn.Sequential(\n",
    "        nn.Conv2d(inp, oup, 3, stride, 1, bias=False),\n",
    "        nn.BatchNorm2d(oup),\n",
    "        nn.ReLU6(inplace=True))\n",
    "\n",
    "\n",
    "def conv_1x1_bn(inp, oup):\n",
    "    return nn.Sequential(\n",
    "        nn.Conv2d(inp, oup, 1, 1, 0, bias=False),\n",
    "        nn.BatchNorm2d(oup),\n",
    "        nn.ReLU6(inplace=True)\n",
    "    )\n",
    "\n",
    "\n",
    "def make_divisible(x, divisible_by=8):\n",
    "    import numpy as np\n",
    "    return int(np.ceil(x * 1. / divisible_by) * divisible_by)\n",
    "\n",
    "\n",
    "class InvertedResidual(nn.Module):\n",
    "    def __init__(self, inp, oup, stride, expand_ratio):\n",
    "        super(InvertedResidual, self).__init__()\n",
    "        self.stride = stride\n",
    "        assert stride in [1, 2]\n",
    "\n",
    "        hidden_dim = int(inp * expand_ratio)\n",
    "        self.use_res_connect = self.stride == 1 and inp == oup\n",
    "\n",
    "        if expand_ratio == 1:\n",
    "            self.conv = nn.Sequential(\n",
    "                # dw\n",
    "                nn.Conv2d(hidden_dim, hidden_dim, 3, stride, 1, groups=hidden_dim, bias=False),\n",
    "                nn.BatchNorm2d(hidden_dim),\n",
    "                nn.ReLU6(inplace=True),\n",
    "                # pw-linear\n",
    "                nn.Conv2d(hidden_dim, oup, 1, 1, 0, bias=False),\n",
    "                nn.BatchNorm2d(oup),\n",
    "            )\n",
    "        else:\n",
    "            self.conv = nn.Sequential(\n",
    "                # pw\n",
    "                nn.Conv2d(inp, hidden_dim, 1, 1, 0, bias=False),\n",
    "                nn.BatchNorm2d(hidden_dim),\n",
    "                nn.ReLU6(inplace=True),\n",
    "                # dw\n",
    "                nn.Conv2d(hidden_dim, hidden_dim, 3, stride, 1, groups=hidden_dim, bias=False),\n",
    "                nn.BatchNorm2d(hidden_dim),\n",
    "                nn.ReLU6(inplace=True),\n",
    "                # pw-linear\n",
    "                nn.Conv2d(hidden_dim, oup, 1, 1, 0, bias=False),\n",
    "                nn.BatchNorm2d(oup),\n",
    "            )\n",
    "\n",
    "    def forward(self, x):\n",
    "        if self.use_res_connect:\n",
    "            return x + self.conv(x)\n",
    "        else:\n",
    "            return self.conv(x)"
   ]
  },
  {
   "cell_type": "code",
   "execution_count": 22,
   "id": "d1a1a73b",
   "metadata": {},
   "outputs": [],
   "source": [
    "class MobileNetV2(nn.Module):\n",
    "    def __init__(self, n_class=1000, input_size=224, width_mult=1.):\n",
    "        super(MobileNetV2, self).__init__()\n",
    "        block = InvertedResidual\n",
    "        input_channel = 32\n",
    "        last_channel = 1280\n",
    "        interverted_residual_setting = [\n",
    "            # t, c, n, s\n",
    "            [1, 16, 1, 1],\n",
    "            [6, 24, 2, 2],\n",
    "            [6, 32, 3, 2],\n",
    "            [6, 64, 4, 2],\n",
    "            [6, 96, 3, 1],\n",
    "            [6, 160, 3, 2],\n",
    "            [6, 320, 1, 1],\n",
    "        ]\n",
    "\n",
    "        # building first layer\n",
    "        assert input_size % 32 == 0\n",
    "        # input_channel = make_divisible(input_channel * width_mult)  # first channel is always 32!\n",
    "        self.last_channel = make_divisible(last_channel * width_mult) if width_mult > 1.0 else last_channel\n",
    "        self.features = [conv_bn(3, input_channel, 2)]\n",
    "        # building inverted residual blocks\n",
    "        for t, c, n, s in interverted_residual_setting:\n",
    "            output_channel = make_divisible(c * width_mult) if t > 1 else c\n",
    "            for i in range(n):\n",
    "                if i == 0:\n",
    "                    self.features.append(block(input_channel, output_channel, s, expand_ratio=t))\n",
    "                else:\n",
    "                    self.features.append(block(input_channel, output_channel, 1, expand_ratio=t))\n",
    "                input_channel = output_channel\n",
    "        # building last several layers\n",
    "        self.features.append(conv_1x1_bn(input_channel, self.last_channel))\n",
    "        # make it nn.Sequential\n",
    "        self.features = nn.Sequential(*self.features)\n",
    "\n",
    "        # building classifier\n",
    "        self.classifier = nn.Linear(self.last_channel, n_class)\n",
    "\n",
    "        self._initialize_weights()\n",
    "\n",
    "    def forward(self, x):\n",
    "        x = self.features(x)\n",
    "        x = x.mean(3).mean(2)\n",
    "        x = self.classifier(x)\n",
    "        return x\n",
    "\n",
    "    def _initialize_weights(self):\n",
    "        for m in self.modules():\n",
    "            if isinstance(m, nn.Conv2d):\n",
    "                n = m.kernel_size[0] * m.kernel_size[1] * m.out_channels\n",
    "                m.weight.data.normal_(0, math.sqrt(2. / n))\n",
    "                if m.bias is not None:\n",
    "                    m.bias.data.zero_()\n",
    "            elif isinstance(m, nn.BatchNorm2d):\n",
    "                m.weight.data.fill_(1)\n",
    "                m.bias.data.zero_()\n",
    "            elif isinstance(m, nn.Linear):\n",
    "                n = m.weight.size(1)\n",
    "                m.weight.data.normal_(0, 0.01)\n",
    "                m.bias.data.zero_()\n"
   ]
  },
  {
   "cell_type": "code",
   "execution_count": 13,
   "id": "2305a67b",
   "metadata": {},
   "outputs": [],
   "source": [
    "model = MobileNetV2(width_mult=1)\n",
    "model.classifier = nn.Linear(in_features = 1280, out_features = 2, bias = True)\n",
    "model = model.to(config['device'])\n",
    "model.load_state_dict(torch.load('saved/mob_v2_best.pt'))\n",
    "optimizer = optim.Adam(model.parameters(),lr=config['lr'])\n",
    "criterion = nn.CrossEntropyLoss()"
   ]
  },
  {
   "cell_type": "code",
   "execution_count": 14,
   "id": "205111b1",
   "metadata": {},
   "outputs": [
    {
     "name": "stdout",
     "output_type": "stream",
     "text": [
      "Test Loss is 0.31001701527275144\n",
      "Test Accuracy is 0.8625\n"
     ]
    }
   ],
   "source": [
    "labels, pred_labels, preds = evaluation(model,test_dl)"
   ]
  },
  {
   "cell_type": "code",
   "execution_count": 18,
   "id": "fd017cb3",
   "metadata": {},
   "outputs": [
    {
     "name": "stdout",
     "output_type": "stream",
     "text": [
      "              precision    recall  f1-score   support\n",
      "\n",
      "    abnormal       0.69      0.63      0.66       134\n",
      "      normal       0.91      0.92      0.91       506\n",
      "\n",
      "    accuracy                           0.86       640\n",
      "   macro avg       0.80      0.78      0.79       640\n",
      "weighted avg       0.86      0.86      0.86       640\n",
      "\n",
      "\n",
      " classwise accuracy\n",
      "[0.63432836 0.9229249 ]\n",
      "auc roc score 0.9081912571529704\n"
     ]
    }
   ],
   "source": [
    "print(metrics.classification_report(labels,pred_labels,target_names = ['abnormal','normal']))\n",
    "cm = metrics.confusion_matrix(labels,pred_labels)\n",
    "print('\\n classwise accuracy')\n",
    "cm = cm.astype('float') / cm.sum(axis=1)[:, np.newaxis]\n",
    "print(cm.diagonal())\n",
    "\n",
    "print('auc roc score',metrics.roc_auc_score(1-np.array(labels), np.array(preds)[:,0]))"
   ]
  },
  {
   "cell_type": "code",
   "execution_count": 23,
   "id": "95ea0aa8",
   "metadata": {},
   "outputs": [],
   "source": [
    "# Final Trained model\n",
    "model = MobileNetV2(width_mult=1)\n",
    "model.classifier = nn.Linear(in_features = 1280, out_features = 2, bias = True)\n",
    "model = model.to(config['device'])\n",
    "model.load_state_dict(torch.load('saved/mob_v2.pt'))\n",
    "optimizer = optim.Adam(model.parameters(),lr=config['lr'])\n",
    "criterion = nn.CrossEntropyLoss()"
   ]
  },
  {
   "cell_type": "code",
   "execution_count": 24,
   "id": "d287eeca",
   "metadata": {},
   "outputs": [
    {
     "name": "stdout",
     "output_type": "stream",
     "text": [
      "Test Loss is 0.47453446890067424\n",
      "Test Accuracy is 0.8203125\n"
     ]
    }
   ],
   "source": [
    "labels, pred_labels, preds = evaluation(model,test_dl)"
   ]
  },
  {
   "cell_type": "code",
   "execution_count": 25,
   "id": "2b72f9c6",
   "metadata": {},
   "outputs": [
    {
     "name": "stdout",
     "output_type": "stream",
     "text": [
      "              precision    recall  f1-score   support\n",
      "\n",
      "    abnormal       0.56      0.63      0.60       134\n",
      "      normal       0.90      0.87      0.88       506\n",
      "\n",
      "    accuracy                           0.82       640\n",
      "   macro avg       0.73      0.75      0.74       640\n",
      "weighted avg       0.83      0.82      0.82       640\n",
      "\n",
      "\n",
      " classwise accuracy\n",
      "[0.63432836 0.86956522]\n",
      "auc roc score 0.857781251843549\n"
     ]
    }
   ],
   "source": [
    "print(metrics.classification_report(labels,pred_labels,target_names = ['abnormal','normal']))\n",
    "cm = metrics.confusion_matrix(labels,pred_labels)\n",
    "print('\\n classwise accuracy')\n",
    "cm = cm.astype('float') / cm.sum(axis=1)[:, np.newaxis]\n",
    "print(cm.diagonal())\n",
    "\n",
    "print('auc roc score',metrics.roc_auc_score(1-np.array(labels), np.array(preds)[:,0]))"
   ]
  },
  {
   "cell_type": "markdown",
   "id": "2faf6089",
   "metadata": {},
   "source": [
    "# Efficientnet"
   ]
  },
  {
   "cell_type": "code",
   "execution_count": 11,
   "id": "eca30633",
   "metadata": {},
   "outputs": [],
   "source": [
    "base_model = [\n",
    "    # expand_ratio, channels, repeats, stride, kernel_size\n",
    "    [1, 16, 1, 1, 3],\n",
    "    [6, 24, 2, 2, 3],\n",
    "    [6, 40, 2, 2, 5],\n",
    "    [6, 80, 3, 2, 3],\n",
    "    [6, 112, 3, 1, 5],\n",
    "    [6, 192, 4, 2, 5],\n",
    "    [6, 320, 1, 1, 3],\n",
    "]\n",
    "\n",
    "phi_values = {\n",
    "    # tuple of: (phi_value, resolution, drop_rate)\n",
    "    \"b0\": (0, 224, 0.2),  # alpha, beta, gamma, depth = alpha ** phi\n",
    "    \"b1\": (0.5, 240, 0.2),\n",
    "    \"b2\": (1, 260, 0.3),\n",
    "    \"b3\": (2, 300, 0.3),\n",
    "    \"b4\": (3, 380, 0.4),\n",
    "    \"b5\": (4, 456, 0.4),\n",
    "    \"b6\": (5, 528, 0.5),\n",
    "    \"b7\": (6, 600, 0.5),\n",
    "}\n",
    "\n",
    "class CNNBlock(nn.Module):\n",
    "    def __init__(\n",
    "            self, in_channels, out_channels, kernel_size, stride, padding, groups=1\n",
    "    ):\n",
    "        super(CNNBlock, self).__init__()\n",
    "        self.cnn = nn.Conv2d(\n",
    "            in_channels,\n",
    "            out_channels,\n",
    "            kernel_size,\n",
    "            stride,\n",
    "            padding,\n",
    "            groups=groups,\n",
    "            bias=False,\n",
    "        )\n",
    "        self.bn = nn.BatchNorm2d(out_channels)\n",
    "        self.silu = nn.SiLU() # SiLU <-> Swish\n",
    "\n",
    "    def forward(self, x):\n",
    "        return self.silu(self.bn(self.cnn(x)))\n",
    "\n",
    "class SqueezeExcitation(nn.Module):\n",
    "    def __init__(self, in_channels, reduced_dim):\n",
    "        super(SqueezeExcitation, self).__init__()\n",
    "        self.se = nn.Sequential(\n",
    "            nn.AdaptiveAvgPool2d(1), # C x H x W -> C x 1 x 1\n",
    "            nn.Conv2d(in_channels, reduced_dim, 1),\n",
    "            nn.SiLU(),\n",
    "            nn.Conv2d(reduced_dim, in_channels, 1),\n",
    "            nn.Sigmoid(),\n",
    "        )\n",
    "\n",
    "    def forward(self, x):\n",
    "        return x * self.se(x)\n",
    "\n",
    "class InvertedResidualBlock(nn.Module):\n",
    "    def __init__(\n",
    "            self,\n",
    "            in_channels,\n",
    "            out_channels,\n",
    "            kernel_size,\n",
    "            stride,\n",
    "            padding,\n",
    "            expand_ratio,\n",
    "            reduction=4, # squeeze excitation\n",
    "            survival_prob=0.8, # for stochastic depth\n",
    "    ):\n",
    "        super(InvertedResidualBlock, self).__init__()\n",
    "        self.survival_prob = 0.8\n",
    "        self.use_residual = in_channels == out_channels and stride == 1\n",
    "        hidden_dim = in_channels * expand_ratio\n",
    "        self.expand = in_channels != hidden_dim\n",
    "        reduced_dim = int(in_channels / reduction)\n",
    "\n",
    "        if self.expand:\n",
    "            self.expand_conv = CNNBlock(\n",
    "                in_channels, hidden_dim, kernel_size=3, stride=1, padding=1,\n",
    "            )\n",
    "\n",
    "        self.conv = nn.Sequential(\n",
    "            CNNBlock(\n",
    "                hidden_dim, hidden_dim, kernel_size, stride, padding, groups=hidden_dim,\n",
    "            ),\n",
    "            SqueezeExcitation(hidden_dim, reduced_dim),\n",
    "            nn.Conv2d(hidden_dim, out_channels, 1, bias=False),\n",
    "            nn.BatchNorm2d(out_channels),\n",
    "        )\n",
    "\n",
    "    def stochastic_depth(self, x):\n",
    "        if not self.training:\n",
    "            return x\n",
    "\n",
    "        binary_tensor = torch.rand(x.shape[0], 1, 1, 1, device=x.device) < self.survival_prob\n",
    "        return torch.div(x, self.survival_prob) * binary_tensor\n",
    "\n",
    "    def forward(self, inputs):\n",
    "        x = self.expand_conv(inputs) if self.expand else inputs\n",
    "\n",
    "        if self.use_residual:\n",
    "            return self.stochastic_depth(self.conv(x)) + inputs\n",
    "        else:\n",
    "            return self.conv(x)\n",
    "\n",
    "\n",
    "class EfficientNet(nn.Module):\n",
    "    def __init__(self, version, num_classes):\n",
    "        super(EfficientNet, self).__init__()\n",
    "        width_factor, depth_factor, dropout_rate = self.calculate_factors(version)\n",
    "        last_channels = ceil(1280 * width_factor)\n",
    "        self.pool = nn.AdaptiveAvgPool2d(1)\n",
    "        self.features = self.create_features(width_factor, depth_factor, last_channels)\n",
    "        self.classifier = nn.Sequential(\n",
    "            nn.Dropout(dropout_rate),\n",
    "            nn.Linear(last_channels, num_classes),\n",
    "        )\n",
    "\n",
    "    def calculate_factors(self, version, alpha=1.2, beta=1.1):\n",
    "        phi, res, drop_rate = phi_values[version]\n",
    "        depth_factor = alpha ** phi\n",
    "        width_factor = beta ** phi\n",
    "        return width_factor, depth_factor, drop_rate\n",
    "\n",
    "    def create_features(self, width_factor, depth_factor, last_channels):\n",
    "        channels = int(32 * width_factor)\n",
    "        features = [CNNBlock(3, channels, 3, stride=2, padding=1)]\n",
    "        in_channels = channels\n",
    "\n",
    "        for expand_ratio, channels, repeats, stride, kernel_size in base_model:\n",
    "            out_channels = 4*ceil(int(channels*width_factor) / 4)\n",
    "            layers_repeats = ceil(repeats * depth_factor)\n",
    "\n",
    "            for layer in range(layers_repeats):\n",
    "                features.append(\n",
    "                    InvertedResidualBlock(\n",
    "                        in_channels,\n",
    "                        out_channels,\n",
    "                        expand_ratio=expand_ratio,\n",
    "                        stride = stride if layer == 0 else 1,\n",
    "                        kernel_size=kernel_size,\n",
    "                        padding=kernel_size//2, # if k=1:pad=0, k=3:pad=1, k=5:pad=2\n",
    "                    )\n",
    "                )\n",
    "                in_channels = out_channels\n",
    "\n",
    "        features.append(\n",
    "            CNNBlock(in_channels, last_channels, kernel_size=1, stride=1, padding=0)\n",
    "        )\n",
    "\n",
    "        return nn.Sequential(*features)\n",
    "\n",
    "    def forward(self, x):\n",
    "        x = self.pool(self.features(x))\n",
    "        return self.classifier(x.view(x.shape[0], -1))"
   ]
  },
  {
   "cell_type": "markdown",
   "id": "c0e1541a",
   "metadata": {},
   "source": [
    "## Efficientnet-B0"
   ]
  },
  {
   "cell_type": "code",
   "execution_count": 12,
   "id": "98e3c899",
   "metadata": {},
   "outputs": [],
   "source": [
    "model = EfficientNet(version = 'b0', num_classes = 2)\n",
    "model = model.to(config['device'])\n",
    "model.load_state_dict(torch.load('saved/eff_b0_best.pt'))\n",
    "optimizer = optim.Adam(model.parameters(),lr=config['lr'])\n",
    "criterion = nn.CrossEntropyLoss()"
   ]
  },
  {
   "cell_type": "code",
   "execution_count": 13,
   "id": "58898158",
   "metadata": {},
   "outputs": [
    {
     "name": "stdout",
     "output_type": "stream",
     "text": [
      "Test Loss is 0.33482994996011256\n",
      "Test Accuracy is 0.8625\n"
     ]
    }
   ],
   "source": [
    "labels, pred_labels, preds = evaluation(model,test_dl)"
   ]
  },
  {
   "cell_type": "code",
   "execution_count": 14,
   "id": "1e739db5",
   "metadata": {},
   "outputs": [
    {
     "name": "stdout",
     "output_type": "stream",
     "text": [
      "              precision    recall  f1-score   support\n",
      "\n",
      "    abnormal       0.67      0.67      0.67       134\n",
      "      normal       0.91      0.91      0.91       506\n",
      "\n",
      "    accuracy                           0.86       640\n",
      "   macro avg       0.79      0.79      0.79       640\n",
      "weighted avg       0.86      0.86      0.86       640\n",
      "\n",
      "\n",
      " classwise accuracy\n",
      "[0.67164179 0.91304348]\n",
      "auc roc score 0.8966727626688692\n"
     ]
    }
   ],
   "source": [
    "print(metrics.classification_report(labels,pred_labels,target_names = ['abnormal','normal']))\n",
    "cm = metrics.confusion_matrix(labels,pred_labels)\n",
    "print('\\n classwise accuracy')\n",
    "cm = cm.astype('float') / cm.sum(axis=1)[:, np.newaxis]\n",
    "print(cm.diagonal())\n",
    "\n",
    "print('auc roc score',metrics.roc_auc_score(1-np.array(labels), np.array(preds)[:,0]))"
   ]
  },
  {
   "cell_type": "code",
   "execution_count": 15,
   "id": "fbe61105",
   "metadata": {},
   "outputs": [],
   "source": [
    "# Final Trained model\n",
    "model = EfficientNet(version = 'b0', num_classes = 2)\n",
    "model = model.to(config['device'])\n",
    "model.load_state_dict(torch.load('saved/eff_b0.pt'))\n",
    "optimizer = optim.Adam(model.parameters(),lr=config['lr'])\n",
    "criterion = nn.CrossEntropyLoss()"
   ]
  },
  {
   "cell_type": "code",
   "execution_count": 16,
   "id": "7b102daa",
   "metadata": {},
   "outputs": [
    {
     "name": "stdout",
     "output_type": "stream",
     "text": [
      "Test Loss is 1.2293293285901086\n",
      "Test Accuracy is 0.8171875000000001\n"
     ]
    }
   ],
   "source": [
    "labels, pred_labels, preds = evaluation(model,test_dl)"
   ]
  },
  {
   "cell_type": "code",
   "execution_count": 17,
   "id": "4ec8657d",
   "metadata": {},
   "outputs": [
    {
     "name": "stdout",
     "output_type": "stream",
     "text": [
      "              precision    recall  f1-score   support\n",
      "\n",
      "    abnormal       0.55      0.68      0.61       134\n",
      "      normal       0.91      0.85      0.88       506\n",
      "\n",
      "    accuracy                           0.82       640\n",
      "   macro avg       0.73      0.77      0.74       640\n",
      "weighted avg       0.83      0.82      0.82       640\n",
      "\n",
      "\n",
      " classwise accuracy\n",
      "[0.67910448 0.85375494]\n",
      "auc roc score 0.8318830747448528\n"
     ]
    }
   ],
   "source": [
    "print(metrics.classification_report(labels,pred_labels,target_names = ['abnormal','normal']))\n",
    "cm = metrics.confusion_matrix(labels,pred_labels)\n",
    "print('\\n classwise accuracy')\n",
    "cm = cm.astype('float') / cm.sum(axis=1)[:, np.newaxis]\n",
    "print(cm.diagonal())\n",
    "\n",
    "print('auc roc score',metrics.roc_auc_score(1-np.array(labels), np.array(preds)[:,0]))"
   ]
  },
  {
   "cell_type": "markdown",
   "id": "921cc6d3",
   "metadata": {},
   "source": [
    "## Efficientnet-B2"
   ]
  },
  {
   "cell_type": "code",
   "execution_count": 25,
   "id": "40c3b7f0",
   "metadata": {},
   "outputs": [],
   "source": [
    "model = EfficientNet(version = 'b2', num_classes = 2)\n",
    "model = model.to(config['device'])\n",
    "model.load_state_dict(torch.load('saved/eff_b2_best.pt'))\n",
    "optimizer = optim.Adam(model.parameters(),lr=config['lr'])\n",
    "criterion = nn.CrossEntropyLoss()"
   ]
  },
  {
   "cell_type": "code",
   "execution_count": 26,
   "id": "cd65e794",
   "metadata": {},
   "outputs": [
    {
     "name": "stdout",
     "output_type": "stream",
     "text": [
      "Test Loss is 0.3435954756103456\n",
      "Test Accuracy is 0.8828125\n"
     ]
    }
   ],
   "source": [
    "labels, pred_labels, preds = evaluation(model,test_dl)"
   ]
  },
  {
   "cell_type": "code",
   "execution_count": 27,
   "id": "c45d7ee3",
   "metadata": {},
   "outputs": [
    {
     "name": "stdout",
     "output_type": "stream",
     "text": [
      "              precision    recall  f1-score   support\n",
      "\n",
      "    abnormal       0.78      0.61      0.69       134\n",
      "      normal       0.90      0.95      0.93       506\n",
      "\n",
      "    accuracy                           0.88       640\n",
      "   macro avg       0.84      0.78      0.81       640\n",
      "weighted avg       0.88      0.88      0.88       640\n",
      "\n",
      "\n",
      " classwise accuracy\n",
      "[0.6119403  0.95454545]\n",
      "auc roc score 0.8886496371895464\n"
     ]
    }
   ],
   "source": [
    "print(metrics.classification_report(labels,pred_labels,target_names = ['abnormal','normal']))\n",
    "cm = metrics.confusion_matrix(labels,pred_labels)\n",
    "print('\\n classwise accuracy')\n",
    "cm = cm.astype('float') / cm.sum(axis=1)[:, np.newaxis]\n",
    "print(cm.diagonal())\n",
    "\n",
    "print('auc roc score',metrics.roc_auc_score(1-np.array(labels), np.array(preds)[:,0]))"
   ]
  },
  {
   "cell_type": "code",
   "execution_count": 18,
   "id": "878da89d",
   "metadata": {},
   "outputs": [],
   "source": [
    "# Final trained\n",
    "model = EfficientNet(version = 'b2', num_classes = 2)\n",
    "model = model.to(config['device'])\n",
    "model.load_state_dict(torch.load('saved/eff_b2.pt'))\n",
    "optimizer = optim.Adam(model.parameters(),lr=config['lr'])\n",
    "criterion = nn.CrossEntropyLoss()"
   ]
  },
  {
   "cell_type": "code",
   "execution_count": 19,
   "id": "19f6813b",
   "metadata": {},
   "outputs": [
    {
     "name": "stdout",
     "output_type": "stream",
     "text": [
      "Test Loss is 0.34359548036009074\n",
      "Test Accuracy is 0.8828125\n"
     ]
    }
   ],
   "source": [
    "labels, pred_labels, preds = evaluation(model,test_dl)"
   ]
  },
  {
   "cell_type": "code",
   "execution_count": 20,
   "id": "a91924ee",
   "metadata": {},
   "outputs": [
    {
     "name": "stdout",
     "output_type": "stream",
     "text": [
      "              precision    recall  f1-score   support\n",
      "\n",
      "    abnormal       0.78      0.61      0.69       134\n",
      "      normal       0.90      0.95      0.93       506\n",
      "\n",
      "    accuracy                           0.88       640\n",
      "   macro avg       0.84      0.78      0.81       640\n",
      "weighted avg       0.88      0.88      0.88       640\n",
      "\n",
      "\n",
      " classwise accuracy\n",
      "[0.6119403  0.95454545]\n",
      "auc roc score 0.8886496371895464\n"
     ]
    }
   ],
   "source": [
    "print(metrics.classification_report(labels,pred_labels,target_names = ['abnormal','normal']))\n",
    "cm = metrics.confusion_matrix(labels,pred_labels)\n",
    "print('\\n classwise accuracy')\n",
    "cm = cm.astype('float') / cm.sum(axis=1)[:, np.newaxis]\n",
    "print(cm.diagonal())\n",
    "\n",
    "print('auc roc score',metrics.roc_auc_score(1-np.array(labels), np.array(preds)[:,0]))"
   ]
  }
 ],
 "metadata": {
  "kernelspec": {
   "display_name": "Python 3 (ipykernel)",
   "language": "python",
   "name": "python3"
  },
  "language_info": {
   "codemirror_mode": {
    "name": "ipython",
    "version": 3
   },
   "file_extension": ".py",
   "mimetype": "text/x-python",
   "name": "python",
   "nbconvert_exporter": "python",
   "pygments_lexer": "ipython3",
   "version": "3.7.3"
  }
 },
 "nbformat": 4,
 "nbformat_minor": 5
}
